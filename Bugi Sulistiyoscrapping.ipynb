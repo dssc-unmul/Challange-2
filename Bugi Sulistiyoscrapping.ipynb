{
 "cells": [
  {
   "cell_type": "markdown",
   "metadata": {},
   "source": [
    "# Web Scrapping\n",
    "Program ini menggunakan website list karakter canon One Piece\n",
    "Data yang diambil merupakan tabel karakter dengan tipe data teks"
   ]
  },
  {
   "cell_type": "markdown",
   "metadata": {},
   "source": [
    "### Import Libraries\n",
    "Program ini menggunakan 5 library. 2 library untuk berhubungan dengan website. 1 library untuk mengolah data. 2 libray untuk mengolah file"
   ]
  },
  {
   "cell_type": "code",
   "execution_count": 107,
   "metadata": {},
   "outputs": [],
   "source": [
    "from bs4 import BeautifulSoup\n",
    "import requests\n",
    "import re\n",
    "import csv\n",
    "import pandas as pd"
   ]
  },
  {
   "cell_type": "markdown",
   "metadata": {},
   "source": [
    "### Link Website\n",
    "Pada bagian ini dideklarasikan link url website yang ingin diambil datanya"
   ]
  },
  {
   "cell_type": "code",
   "execution_count": 108,
   "metadata": {},
   "outputs": [],
   "source": [
    "web_url = \"https://onepiece.fandom.com/wiki/List_of_Canon_Characters\""
   ]
  },
  {
   "cell_type": "markdown",
   "metadata": {},
   "source": [
    "### Connect to Website\n",
    "Fungsi connect_to_web() berguna untuk berhubungan dengan website. Pada fungsi ini tag html pada website diambil. Selain itu fungsi ini juga memeriksa apakah link yang kita masukkan valid atau tidak."
   ]
  },
  {
   "cell_type": "code",
   "execution_count": 109,
   "metadata": {},
   "outputs": [],
   "source": [
    "def connect_to_web(url):\n",
    "    \"\"\"fungsi untuk membuat koneksi dan mengambil data ke website yang diinginkan\n",
    "\n",
    "    Args:\n",
    "        url (string): url website yang akan digunakan\n",
    "\n",
    "    Returns:\n",
    "        class.beautiful: variabel yang berisi tag html\n",
    "    \"\"\"\n",
    "    connect = requests.get(url)\n",
    "    page = BeautifulSoup(connect.content, \"html.parser\")\n",
    "    \n",
    "    if connect.status_code == 200:\n",
    "        print(f\"Berhasil terhubung ke Web: {page.h1.text}\")\n",
    "    else:\n",
    "        print(f\"Gagal terhubung ke web \\nKode Error: {connect.status_code}\")\n",
    "    \n",
    "    return page"
   ]
  },
  {
   "cell_type": "markdown",
   "metadata": {},
   "source": [
    "### Mengambil Tag\n",
    "Cell di bawah mengambil semua tag th dan td sekaligus memanggil fungsi connect_to_web"
   ]
  },
  {
   "cell_type": "code",
   "execution_count": 111,
   "metadata": {},
   "outputs": [
    {
     "name": "stdout",
     "output_type": "stream",
     "text": [
      "Berhasil terhubung ke Web: \n",
      "\t\t\t\t\tList of Canon Characters\t\t\t\t\n"
     ]
    }
   ],
   "source": [
    "webPage_content = connect_to_web(web_url)\n",
    "\n",
    "table_header = webPage_content.find_all(\"th\")\n",
    "table_content = webPage_content.find_all(\"td\")"
   ]
  },
  {
   "cell_type": "markdown",
   "metadata": {},
   "source": [
    "### Mendapatkan Content Header\n",
    "Pada fungsi getHeader_values program mengambil content header tabel"
   ]
  },
  {
   "cell_type": "code",
   "execution_count": 68,
   "metadata": {},
   "outputs": [],
   "source": [
    "def getHeader_values(content_wrapped, begin, end):\n",
    "    \"\"\"mengambil data table header dari website yang dituju\n",
    "\n",
    "    Args:\n",
    "        content_wrapped (beautifulsoup): file yang berisi tag halaman website\n",
    "        begin (int): awal perulangan\n",
    "        end (int): akhir perulangan\n",
    "\n",
    "    Returns:\n",
    "        list: data tabel header\n",
    "    \"\"\"\n",
    "    temp = []\n",
    "    \n",
    "    for index in range(begin, end):\n",
    "        content_text = content_wrapped[index].b.text\n",
    "        temp.append(re.sub(r\", \", r\"\", content_text))\n",
    "        \n",
    "    return temp"
   ]
  },
  {
   "cell_type": "markdown",
   "metadata": {},
   "source": [
    "### Mendapatkan Content Isi\n",
    "Pada fungsi getContent_values program mengambil dan membersihkan content isi dari tabel."
   ]
  },
  {
   "cell_type": "code",
   "execution_count": 51,
   "metadata": {},
   "outputs": [],
   "source": [
    "def getContent_values(content_wrapped):\n",
    "    \"\"\"mengambil data isi dari tabel\n",
    "\n",
    "    Args:\n",
    "        content_wrapped (beautifulsoup): file yang berisi tag html halaman website\n",
    "\n",
    "    Returns:\n",
    "        list: data isi dari tabel dan berbentuk list di dalam list\n",
    "    \"\"\"\n",
    "    length_content = len(content_wrapped)\n",
    "    temp_list = []\n",
    "    loopBegin = 1\n",
    "    \n",
    "    for lane in range(loopBegin, length_content//6):\n",
    "        temp_val = []\n",
    "        \n",
    "        for index in range(loopBegin, 6*lane):\n",
    "            content_text = content_wrapped[index].text\n",
    "            content_text = re.sub(r\"$(\\r\\n|\\r|\\n)\", r\"\", content_text)\n",
    "            \n",
    "            if content_text == \"\":\n",
    "                temp_val.append(\"Empty\")\n",
    "            else:\n",
    "                temp_val.append(content_text)\n",
    "            \n",
    "        loopBegin += 6\n",
    "        temp_list.append(temp_val)\n",
    "        \n",
    "        if len(temp_list) >= 1317:\n",
    "            break\n",
    "    \n",
    "    return temp_list\n"
   ]
  },
  {
   "cell_type": "markdown",
   "metadata": {},
   "source": [
    "### Calling the function\n",
    "Pada cell di bawah ini program memaggil fungsi content di atas dan memasukkan nilainya pada variabel"
   ]
  },
  {
   "cell_type": "code",
   "execution_count": 69,
   "metadata": {},
   "outputs": [],
   "source": [
    "character_list = getContent_values(table_content)\n",
    "header = getHeader_values(table_header, 1, 6)"
   ]
  },
  {
   "cell_type": "markdown",
   "metadata": {},
   "source": [
    "### File CSV\n",
    "Pada bagian ini program membuka dan mengubah isi dari file csv. File csv tersebut kemudian diisi dengan data yang telah kita ambil sebelumnya"
   ]
  },
  {
   "cell_type": "code",
   "execution_count": 105,
   "metadata": {},
   "outputs": [],
   "source": [
    "with open('data_from_webScrapping.csv', '+w', encoding=\"utf-8\") as file:\n",
    "    writer = csv.writer(file, delimiter=\",\")\n",
    "    \n",
    "    writer.writerow(header)\n",
    "    for lineValues in character_list:\n",
    "        writer.writerow(lineValues)"
   ]
  },
  {
   "cell_type": "markdown",
   "metadata": {},
   "source": [
    "### Membaca File\n",
    "Pada bagian ini program membuka file csv yang telah dibuat menggunakan library pandas"
   ]
  },
  {
   "cell_type": "code",
   "execution_count": 106,
   "metadata": {},
   "outputs": [
    {
     "name": "stdout",
     "output_type": "stream",
     "text": [
      "                         Name,Chapter,Episode,Year,Note\n",
      "0     A O,0551,0460,2009,His name was revealed in th...\n",
      "1                         Abdullah,0704,0632,2013,Empty\n",
      "2                          Absalom,0444,0339,2007,Empty\n",
      "3                           Acilia,0706,0652,2013,Empty\n",
      "4     Adele,0608,0527,2010,Her name was revealed in ...\n",
      "...                                                 ...\n",
      "1312  Zeus,0827,0786,2016,His name was revealed in C...\n",
      "1313  Zodia,0553,0462,2009,His name was revealed in ...\n",
      "1314  Zotto,0533,0432,02009,His name was revealed in...\n",
      "1315  Zucca,0564,0489,2009,His name was revealed in ...\n",
      "1316                       Zunesha,0802,0751,2015,Empty\n",
      "\n",
      "[1317 rows x 1 columns]\n"
     ]
    }
   ],
   "source": [
    "data = pandas.read_csv(\"data_from_webScrapping.csv\", sep=\"|\")\n",
    "print(data)"
   ]
  },
  {
   "cell_type": "code",
   "execution_count": 97,
   "metadata": {},
   "outputs": [
    {
     "name": "stdout",
     "output_type": "stream",
     "text": [
      "                         Name,Chapter,Episode,Year,Note\n",
      "0     A O,0551,0460,2009,His name was revealed in th...\n",
      "1                         Abdullah,0704,0632,2013,Empty\n",
      "2                          Absalom,0444,0339,2007,Empty\n",
      "3                           Acilia,0706,0652,2013,Empty\n",
      "4     Adele,0608,0527,2010,Her name was revealed in ...\n",
      "...                                                 ...\n",
      "1312  Zeus,0827,0786,2016,His name was revealed in C...\n",
      "1313  Zodia,0553,0462,2009,His name was revealed in ...\n",
      "1314  Zotto,0533,0432,02009,His name was revealed in...\n",
      "1315  Zucca,0564,0489,2009,His name was revealed in ...\n",
      "1316                       Zunesha,0802,0751,2015,Empty\n",
      "\n",
      "[1317 rows x 1 columns]\n"
     ]
    }
   ],
   "source": [
    "data = pandas.read_csv(\"data_from_webScrapping.csv\", sep=\"|\", encoding=\"latin-1\")\n",
    "print(data)"
   ]
  },
  {
   "cell_type": "code",
   "execution_count": 94,
   "metadata": {},
   "outputs": [
    {
     "data": {
      "text/html": [
       "<div>\n",
       "<style scoped>\n",
       "    .dataframe tbody tr th:only-of-type {\n",
       "        vertical-align: middle;\n",
       "    }\n",
       "\n",
       "    .dataframe tbody tr th {\n",
       "        vertical-align: top;\n",
       "    }\n",
       "\n",
       "    .dataframe thead th {\n",
       "        text-align: right;\n",
       "    }\n",
       "</style>\n",
       "<table border=\"1\" class=\"dataframe\">\n",
       "  <thead>\n",
       "    <tr style=\"text-align: right;\">\n",
       "      <th></th>\n",
       "      <th>Name,Chapter,Episode,Year,Note</th>\n",
       "    </tr>\n",
       "  </thead>\n",
       "  <tbody>\n",
       "    <tr>\n",
       "      <th>0</th>\n",
       "      <td>A O,0551,0460,2009,His name was revealed in th...</td>\n",
       "    </tr>\n",
       "    <tr>\n",
       "      <th>1</th>\n",
       "      <td>Abdullah,0704,0632,2013,Empty</td>\n",
       "    </tr>\n",
       "    <tr>\n",
       "      <th>2</th>\n",
       "      <td>Absalom,0444,0339,2007,Empty</td>\n",
       "    </tr>\n",
       "    <tr>\n",
       "      <th>3</th>\n",
       "      <td>Acilia,0706,0652,2013,Empty</td>\n",
       "    </tr>\n",
       "    <tr>\n",
       "      <th>4</th>\n",
       "      <td>Adele,0608,0527,2010,Her name was revealed in ...</td>\n",
       "    </tr>\n",
       "    <tr>\n",
       "      <th>5</th>\n",
       "      <td>Aggie 68,0552,0461,2009,His name was revealed ...</td>\n",
       "    </tr>\n",
       "    <tr>\n",
       "      <th>6</th>\n",
       "      <td>Agotogi,0163,0100,2001,His name was revealed i...</td>\n",
       "    </tr>\n",
       "    <tr>\n",
       "      <th>7</th>\n",
       "      <td>Agsilly,0570,0482,2010,His name was revealed i...</td>\n",
       "    </tr>\n",
       "    <tr>\n",
       "      <th>8</th>\n",
       "      <td>Agyo (aka Fighting Lion),0706,0652,2013,His na...</td>\n",
       "    </tr>\n",
       "    <tr>\n",
       "      <th>9</th>\n",
       "      <td>Ahho Desunen IX,0587,0501,2010,His name was re...</td>\n",
       "    </tr>\n",
       "    <tr>\n",
       "      <th>10</th>\n",
       "      <td>Ahho Zurako,0587,0501,2010,Her name was reveal...</td>\n",
       "    </tr>\n",
       "    <tr>\n",
       "      <th>11</th>\n",
       "      <td>Ahiru,0905,0883,2018,Her name was revealed in ...</td>\n",
       "    </tr>\n",
       "    <tr>\n",
       "      <th>12</th>\n",
       "      <td>Aisa,0249,0161,2002,Empty</td>\n",
       "    </tr>\n",
       "    <tr>\n",
       "      <th>13</th>\n",
       "      <td>Akehende,0548,0451,2009,His name was revealed ...</td>\n",
       "    </tr>\n",
       "    <tr>\n",
       "      <th>14</th>\n",
       "      <td>Akudai Kanzaburo,0926,0918,2018,His name was r...</td>\n",
       "    </tr>\n",
       "  </tbody>\n",
       "</table>\n",
       "</div>"
      ],
      "text/plain": [
       "                       Name,Chapter,Episode,Year,Note\n",
       "0   A O,0551,0460,2009,His name was revealed in th...\n",
       "1                       Abdullah,0704,0632,2013,Empty\n",
       "2                        Absalom,0444,0339,2007,Empty\n",
       "3                         Acilia,0706,0652,2013,Empty\n",
       "4   Adele,0608,0527,2010,Her name was revealed in ...\n",
       "5   Aggie 68,0552,0461,2009,His name was revealed ...\n",
       "6   Agotogi,0163,0100,2001,His name was revealed i...\n",
       "7   Agsilly,0570,0482,2010,His name was revealed i...\n",
       "8   Agyo (aka Fighting Lion),0706,0652,2013,His na...\n",
       "9   Ahho Desunen IX,0587,0501,2010,His name was re...\n",
       "10  Ahho Zurako,0587,0501,2010,Her name was reveal...\n",
       "11  Ahiru,0905,0883,2018,Her name was revealed in ...\n",
       "12                          Aisa,0249,0161,2002,Empty\n",
       "13  Akehende,0548,0451,2009,His name was revealed ...\n",
       "14  Akudai Kanzaburo,0926,0918,2018,His name was r..."
      ]
     },
     "execution_count": 94,
     "metadata": {},
     "output_type": "execute_result"
    }
   ],
   "source": [
    "data.head(15)"
   ]
  },
  {
   "cell_type": "code",
   "execution_count": 92,
   "metadata": {},
   "outputs": [
    {
     "data": {
      "text/html": [
       "<div>\n",
       "<style scoped>\n",
       "    .dataframe tbody tr th:only-of-type {\n",
       "        vertical-align: middle;\n",
       "    }\n",
       "\n",
       "    .dataframe tbody tr th {\n",
       "        vertical-align: top;\n",
       "    }\n",
       "\n",
       "    .dataframe thead th {\n",
       "        text-align: right;\n",
       "    }\n",
       "</style>\n",
       "<table border=\"1\" class=\"dataframe\">\n",
       "  <thead>\n",
       "    <tr style=\"text-align: right;\">\n",
       "      <th></th>\n",
       "      <th>Name,Chapter,Episode,Year,Note</th>\n",
       "    </tr>\n",
       "  </thead>\n",
       "  <tbody>\n",
       "    <tr>\n",
       "      <th>1312</th>\n",
       "      <td>Zeus,0827,0786,2016,His name was revealed in C...</td>\n",
       "    </tr>\n",
       "    <tr>\n",
       "      <th>1313</th>\n",
       "      <td>Zodia,0553,0462,2009,His name was revealed in ...</td>\n",
       "    </tr>\n",
       "    <tr>\n",
       "      <th>1314</th>\n",
       "      <td>Zotto,0533,0432,02009,His name was revealed in...</td>\n",
       "    </tr>\n",
       "    <tr>\n",
       "      <th>1315</th>\n",
       "      <td>Zucca,0564,0489,2009,His name was revealed in ...</td>\n",
       "    </tr>\n",
       "    <tr>\n",
       "      <th>1316</th>\n",
       "      <td>Zunesha,0802,0751,2015,Empty</td>\n",
       "    </tr>\n",
       "  </tbody>\n",
       "</table>\n",
       "</div>"
      ],
      "text/plain": [
       "                         Name,Chapter,Episode,Year,Note\n",
       "1312  Zeus,0827,0786,2016,His name was revealed in C...\n",
       "1313  Zodia,0553,0462,2009,His name was revealed in ...\n",
       "1314  Zotto,0533,0432,02009,His name was revealed in...\n",
       "1315  Zucca,0564,0489,2009,His name was revealed in ...\n",
       "1316                       Zunesha,0802,0751,2015,Empty"
      ]
     },
     "execution_count": 92,
     "metadata": {},
     "output_type": "execute_result"
    }
   ],
   "source": [
    "data.tail()"
   ]
  }
 ],
 "metadata": {
  "interpreter": {
   "hash": "6a698132df0d61d2c04481168cd60695d48e6b3ce384607f3b1f9e0e40157999"
  },
  "kernelspec": {
   "display_name": "Python 3.9.1 64-bit",
   "language": "python",
   "name": "python3"
  },
  "language_info": {
   "codemirror_mode": {
    "name": "ipython",
    "version": 3
   },
   "file_extension": ".py",
   "mimetype": "text/x-python",
   "name": "python",
   "nbconvert_exporter": "python",
   "pygments_lexer": "ipython3",
   "version": "3.9.1"
  },
  "orig_nbformat": 4
 },
 "nbformat": 4,
 "nbformat_minor": 2
}
